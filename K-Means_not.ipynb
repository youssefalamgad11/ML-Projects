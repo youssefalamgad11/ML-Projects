{
 "cells": [
  {
   "cell_type": "markdown",
   "id": "87abe886",
   "metadata": {},
   "source": [
    "# Age Dataset"
   ]
  },
  {
   "cell_type": "code",
   "execution_count": null,
   "id": "77653b3d",
   "metadata": {},
   "outputs": [],
   "source": [
    "#Required Library\n",
    "import numpy as np\n",
    "import pandas as pd\n",
    "import matplotlib.pyplot as plt\n",
    "from skimage.feature import hog\n",
    "from skimage import exposure\n",
    "import os\n",
    "import cv2\n",
    "import numpy as np\n",
    "from skimage import io, color, feature, exposure\n",
    "from sklearn.model_selection import train_test_split\n",
    "from sklearn.metrics import accuracy_score, classification_report\n",
    "from sklearn.preprocessing import LabelEncoder\n",
    "from sklearn.preprocessing import MinMaxScaler\n",
    "from sklearn.cluster import KMeans\n",
    "from sklearn.metrics import silhouette_score\n",
    "from sklearn.decomposition import PCA\n",
    "from sklearn.metrics import davies_bouldin_score"
   ]
  },
  {
   "cell_type": "code",
   "execution_count": null,
   "id": "5996df21",
   "metadata": {},
   "outputs": [],
   "source": [
    "# Function to extract HOG features from an image and visualize it\n",
    "def extract_hog_features(image):\n",
    "    # Convert the image to grayscale\n",
    "    gray_image = color.rgb2gray(image)\n",
    "\n",
    "    # Calculate HOG features\n",
    "    hog_features, hog_image = feature.hog(gray_image, visualize=True)\n",
    "\n",
    "    # Enhance the contrast of the HOG image for better visualization\n",
    "    hog_image_rescaled = exposure.rescale_intensity(hog_image, in_range=(0, 10))\n",
    "\n",
    "    return hog_features, hog_image_rescaled"
   ]
  },
  {
   "cell_type": "code",
   "execution_count": null,
   "id": "2530fd83",
   "metadata": {},
   "outputs": [],
   "source": [
    "# Path to the root folder of your dataset\n",
    "class_folder = \"part3\"\n",
    "\n",
    "# List all subdirectories (assuming each subdirectory corresponds to a class)\n",
    "features_list=[]\n",
    "labels_list=[]\n",
    "age = []\n",
    "gender = []\n",
    "race = []\n",
    "\n",
    "for image_filename in os.listdir(class_folder):\n",
    "    image_path = os.path.join(class_folder, image_filename)\n",
    "    \n",
    "    #append age and geder and race for each image\n",
    "    p = (image_filename.split('.')[0]).split('_')\n",
    "    print(p[0])\n",
    "    age.append(p[0])\n",
    "    gender.append(p[1])\n",
    "    race.append(p[2])\n",
    "    \n",
    "    # Load the image\n",
    "    image = io.imread(image_path)\n",
    "    #resize image into same size 64*128\n",
    "    image = cv2.resize(image, (64,64))\n",
    "\n",
    "    # Extract HOG features and visualize\n",
    "    hog_features, hog_image = extract_hog_features(image)\n",
    "\n",
    "    # Display the original image and the HOG features\n",
    "    fig, (ax1, ax2) = plt.subplots(1, 2, figsize=(2, 2), sharex=True, sharey=True)\n",
    "\n",
    "    ax1.axis('off')\n",
    "    ax1.imshow(image, cmap=plt.cm.gray)\n",
    "\n",
    "    ax2.axis('off')\n",
    "    ax2.imshow(hog_image, cmap=plt.cm.gray)\n",
    "\n",
    "    #plt.show()\n",
    "\n",
    "    # Append HOG features to the features list\n",
    "    features_list.append(hog_features)\n",
    "\n",
    "    #not important\n",
    "    # Append the label to the labels list\n",
    "    labels_list.append(class_folder)"
   ]
  },
  {
   "cell_type": "code",
   "execution_count": 14,
   "id": "ef928215",
   "metadata": {},
   "outputs": [
    {
     "name": "stdout",
     "output_type": "stream",
     "text": [
      "\n",
      "*********************\n",
      "\n",
      "3252\n"
     ]
    }
   ],
   "source": [
    "# Convert lists to NumPy arrays\n",
    "features_array = np.array(features_list)\n",
    "labels_array = np.array(labels_list)\n",
    "\n",
    "#not important\n",
    "# Use LabelEncoder to convert class names into numeric labels\n",
    "label_encoder = LabelEncoder()\n",
    "numeric_labels = label_encoder.fit_transform(labels_array)\n",
    "\n",
    "print(\"\\n*********************\\n\")\n",
    "print(len(features_array))\n"
   ]
  },
  {
   "cell_type": "code",
   "execution_count": 15,
   "id": "3424fd50",
   "metadata": {},
   "outputs": [],
   "source": [
    "# Convert 'age' list to numpy array\n",
    "age_array = np.array(age).reshape(-1, 1)  # Reshape as a column vector\n",
    "\n",
    "# Convert 'gender' list to numpy array\n",
    "gender_array = np.array(gender).reshape(-1, 1)  # Reshape as a column vector\n",
    "\n",
    "# Convert 'race' list to numpy array\n",
    "race_array = np.array(race).reshape(-1, 1)  # Reshape as a column vector\n",
    "\n",
    "# Create the dataset by horizontally stacking age_array with features_array\n",
    "dataset = np.hstack((age_array,gender_array, race_array,features_array))\n",
    "\n",
    "# Convert dataset to a pandas DataFrame\n",
    "column_names = ['Age']+['Gender'] +['Race'] + [f'Feature_{i}' for i in range(features_array.shape[1])]  # Creating column names\n",
    "df = pd.DataFrame(dataset, columns=column_names)"
   ]
  },
  {
   "cell_type": "code",
   "execution_count": 16,
   "id": "1d76850d",
   "metadata": {},
   "outputs": [],
   "source": [
    "# save dataset in my drive \n",
    "df.to_csv('age.csv', index=False)"
   ]
  },
  {
   "cell_type": "code",
   "execution_count": 17,
   "id": "03ef9a39",
   "metadata": {},
   "outputs": [
    {
     "data": {
      "text/html": [
       "<div>\n",
       "<style scoped>\n",
       "    .dataframe tbody tr th:only-of-type {\n",
       "        vertical-align: middle;\n",
       "    }\n",
       "\n",
       "    .dataframe tbody tr th {\n",
       "        vertical-align: top;\n",
       "    }\n",
       "\n",
       "    .dataframe thead th {\n",
       "        text-align: right;\n",
       "    }\n",
       "</style>\n",
       "<table border=\"1\" class=\"dataframe\">\n",
       "  <thead>\n",
       "    <tr style=\"text-align: right;\">\n",
       "      <th></th>\n",
       "      <th>Age</th>\n",
       "      <th>Gender</th>\n",
       "      <th>Race</th>\n",
       "      <th>Feature_0</th>\n",
       "      <th>Feature_1</th>\n",
       "      <th>Feature_2</th>\n",
       "      <th>Feature_3</th>\n",
       "      <th>Feature_4</th>\n",
       "      <th>Feature_5</th>\n",
       "      <th>Feature_6</th>\n",
       "      <th>...</th>\n",
       "      <th>Feature_2906</th>\n",
       "      <th>Feature_2907</th>\n",
       "      <th>Feature_2908</th>\n",
       "      <th>Feature_2909</th>\n",
       "      <th>Feature_2910</th>\n",
       "      <th>Feature_2911</th>\n",
       "      <th>Feature_2912</th>\n",
       "      <th>Feature_2913</th>\n",
       "      <th>Feature_2914</th>\n",
       "      <th>Feature_2915</th>\n",
       "    </tr>\n",
       "  </thead>\n",
       "  <tbody>\n",
       "    <tr>\n",
       "      <th>0</th>\n",
       "      <td>100</td>\n",
       "      <td>1</td>\n",
       "      <td>0</td>\n",
       "      <td>0.000000</td>\n",
       "      <td>0.000000</td>\n",
       "      <td>0.000000</td>\n",
       "      <td>0.000000</td>\n",
       "      <td>0.000000</td>\n",
       "      <td>0.000000</td>\n",
       "      <td>0.000000</td>\n",
       "      <td>...</td>\n",
       "      <td>0.105313</td>\n",
       "      <td>0.210356</td>\n",
       "      <td>0.063162</td>\n",
       "      <td>0.027130</td>\n",
       "      <td>0.033233</td>\n",
       "      <td>0.062907</td>\n",
       "      <td>0.007087</td>\n",
       "      <td>0.029493</td>\n",
       "      <td>0.014638</td>\n",
       "      <td>0.059388</td>\n",
       "    </tr>\n",
       "    <tr>\n",
       "      <th>1</th>\n",
       "      <td>10</td>\n",
       "      <td>0</td>\n",
       "      <td>0</td>\n",
       "      <td>0.021221</td>\n",
       "      <td>0.022481</td>\n",
       "      <td>0.220955</td>\n",
       "      <td>0.220955</td>\n",
       "      <td>0.195880</td>\n",
       "      <td>0.090754</td>\n",
       "      <td>0.033301</td>\n",
       "      <td>...</td>\n",
       "      <td>0.051861</td>\n",
       "      <td>0.240718</td>\n",
       "      <td>0.240718</td>\n",
       "      <td>0.126342</td>\n",
       "      <td>0.064562</td>\n",
       "      <td>0.045626</td>\n",
       "      <td>0.000000</td>\n",
       "      <td>0.003938</td>\n",
       "      <td>0.055610</td>\n",
       "      <td>0.079367</td>\n",
       "    </tr>\n",
       "    <tr>\n",
       "      <th>2</th>\n",
       "      <td>10</td>\n",
       "      <td>0</td>\n",
       "      <td>0</td>\n",
       "      <td>0.252932</td>\n",
       "      <td>0.105968</td>\n",
       "      <td>0.057890</td>\n",
       "      <td>0.032553</td>\n",
       "      <td>0.123328</td>\n",
       "      <td>0.006724</td>\n",
       "      <td>0.001473</td>\n",
       "      <td>...</td>\n",
       "      <td>0.010051</td>\n",
       "      <td>0.143671</td>\n",
       "      <td>0.008573</td>\n",
       "      <td>0.008531</td>\n",
       "      <td>0.000000</td>\n",
       "      <td>0.034993</td>\n",
       "      <td>0.004975</td>\n",
       "      <td>0.017171</td>\n",
       "      <td>0.052169</td>\n",
       "      <td>0.079247</td>\n",
       "    </tr>\n",
       "    <tr>\n",
       "      <th>3</th>\n",
       "      <td>10</td>\n",
       "      <td>0</td>\n",
       "      <td>1</td>\n",
       "      <td>0.017564</td>\n",
       "      <td>0.005133</td>\n",
       "      <td>0.002044</td>\n",
       "      <td>0.004387</td>\n",
       "      <td>0.042466</td>\n",
       "      <td>0.040933</td>\n",
       "      <td>0.010096</td>\n",
       "      <td>...</td>\n",
       "      <td>0.003040</td>\n",
       "      <td>0.245698</td>\n",
       "      <td>0.122011</td>\n",
       "      <td>0.006941</td>\n",
       "      <td>0.030092</td>\n",
       "      <td>0.141776</td>\n",
       "      <td>0.012963</td>\n",
       "      <td>0.050654</td>\n",
       "      <td>0.102396</td>\n",
       "      <td>0.092288</td>\n",
       "    </tr>\n",
       "    <tr>\n",
       "      <th>4</th>\n",
       "      <td>10</td>\n",
       "      <td>1</td>\n",
       "      <td>1</td>\n",
       "      <td>0.020991</td>\n",
       "      <td>0.007497</td>\n",
       "      <td>0.016926</td>\n",
       "      <td>0.028936</td>\n",
       "      <td>0.079318</td>\n",
       "      <td>0.018473</td>\n",
       "      <td>0.025189</td>\n",
       "      <td>...</td>\n",
       "      <td>0.224800</td>\n",
       "      <td>0.014928</td>\n",
       "      <td>0.000000</td>\n",
       "      <td>0.000000</td>\n",
       "      <td>0.001942</td>\n",
       "      <td>0.026500</td>\n",
       "      <td>0.003167</td>\n",
       "      <td>0.007885</td>\n",
       "      <td>0.012504</td>\n",
       "      <td>0.031704</td>\n",
       "    </tr>\n",
       "  </tbody>\n",
       "</table>\n",
       "<p>5 rows × 2919 columns</p>\n",
       "</div>"
      ],
      "text/plain": [
       "   Age  Gender  Race  Feature_0  Feature_1  Feature_2  Feature_3  Feature_4  \\\n",
       "0  100       1     0   0.000000   0.000000   0.000000   0.000000   0.000000   \n",
       "1   10       0     0   0.021221   0.022481   0.220955   0.220955   0.195880   \n",
       "2   10       0     0   0.252932   0.105968   0.057890   0.032553   0.123328   \n",
       "3   10       0     1   0.017564   0.005133   0.002044   0.004387   0.042466   \n",
       "4   10       1     1   0.020991   0.007497   0.016926   0.028936   0.079318   \n",
       "\n",
       "   Feature_5  Feature_6  ...  Feature_2906  Feature_2907  Feature_2908  \\\n",
       "0   0.000000   0.000000  ...      0.105313      0.210356      0.063162   \n",
       "1   0.090754   0.033301  ...      0.051861      0.240718      0.240718   \n",
       "2   0.006724   0.001473  ...      0.010051      0.143671      0.008573   \n",
       "3   0.040933   0.010096  ...      0.003040      0.245698      0.122011   \n",
       "4   0.018473   0.025189  ...      0.224800      0.014928      0.000000   \n",
       "\n",
       "   Feature_2909  Feature_2910  Feature_2911  Feature_2912  Feature_2913  \\\n",
       "0      0.027130      0.033233      0.062907      0.007087      0.029493   \n",
       "1      0.126342      0.064562      0.045626      0.000000      0.003938   \n",
       "2      0.008531      0.000000      0.034993      0.004975      0.017171   \n",
       "3      0.006941      0.030092      0.141776      0.012963      0.050654   \n",
       "4      0.000000      0.001942      0.026500      0.003167      0.007885   \n",
       "\n",
       "   Feature_2914  Feature_2915  \n",
       "0      0.014638      0.059388  \n",
       "1      0.055610      0.079367  \n",
       "2      0.052169      0.079247  \n",
       "3      0.102396      0.092288  \n",
       "4      0.012504      0.031704  \n",
       "\n",
       "[5 rows x 2919 columns]"
      ]
     },
     "execution_count": 17,
     "metadata": {},
     "output_type": "execute_result"
    }
   ],
   "source": [
    "#load data from my devise \n",
    "dataset = pd.read_csv('age.csv')\n",
    "dataset.head()"
   ]
  },
  {
   "cell_type": "markdown",
   "id": "8cac4628",
   "metadata": {},
   "source": [
    "# Sum all image features"
   ]
  },
  {
   "cell_type": "code",
   "execution_count": 18,
   "id": "25506da1",
   "metadata": {},
   "outputs": [
    {
     "name": "stdout",
     "output_type": "stream",
     "text": [
      "3252\n",
      "[242.61138975740556, 249.60900630215883, 209.78194078084783, 234.46367633952485, 244.28864259556912, 214.88428292968058, 221.42534378383954, 276.2718883690759, 267.8778270676868, 256.6791883946837, 237.0204889400103, 282.79197785894934, 221.45990679125345, 258.53499732643263, 230.59309682396923, 244.29042129287572, 254.39460419362226, 229.5184468873166, 233.8002207747195, 235.48437950908556]\n",
      "\n",
      "-------------------\n",
      "\n",
      "['100', '10', '10', '10', '10', '10', '110', '111', '115', '115', '116', '116', '11', '13', '13', '14', '14', '14', '14', '14']\n"
     ]
    }
   ],
   "source": [
    "#sum all image features\n",
    "features_sum = np.sum(features_array, axis=1).tolist()\n",
    "print(len(features_sum))\n",
    "print(features_sum[:20])\n",
    "print(\"\\n-------------------\\n\")\n",
    "print(age[:20])"
   ]
  },
  {
   "cell_type": "code",
   "execution_count": 19,
   "id": "a025c567",
   "metadata": {},
   "outputs": [
    {
     "data": {
      "text/html": [
       "<div>\n",
       "<style scoped>\n",
       "    .dataframe tbody tr th:only-of-type {\n",
       "        vertical-align: middle;\n",
       "    }\n",
       "\n",
       "    .dataframe tbody tr th {\n",
       "        vertical-align: top;\n",
       "    }\n",
       "\n",
       "    .dataframe thead th {\n",
       "        text-align: right;\n",
       "    }\n",
       "</style>\n",
       "<table border=\"1\" class=\"dataframe\">\n",
       "  <thead>\n",
       "    <tr style=\"text-align: right;\">\n",
       "      <th></th>\n",
       "      <th>Age</th>\n",
       "      <th>Gender</th>\n",
       "      <th>Race</th>\n",
       "      <th>Features</th>\n",
       "    </tr>\n",
       "  </thead>\n",
       "  <tbody>\n",
       "    <tr>\n",
       "      <th>0</th>\n",
       "      <td>100</td>\n",
       "      <td>1</td>\n",
       "      <td>0</td>\n",
       "      <td>242.611390</td>\n",
       "    </tr>\n",
       "    <tr>\n",
       "      <th>1</th>\n",
       "      <td>10</td>\n",
       "      <td>0</td>\n",
       "      <td>0</td>\n",
       "      <td>249.609006</td>\n",
       "    </tr>\n",
       "  </tbody>\n",
       "</table>\n",
       "</div>"
      ],
      "text/plain": [
       "   Age Gender Race    Features\n",
       "0  100      1    0  242.611390\n",
       "1   10      0    0  249.609006"
      ]
     },
     "execution_count": 19,
     "metadata": {},
     "output_type": "execute_result"
    }
   ],
   "source": [
    "# new dataset after sum image features\n",
    "data = {'Age':age ,'Gender':gender ,'Race':race , 'Features': features_sum}\n",
    "df = pd.DataFrame(data)\n",
    "\n",
    "df.head(2)"
   ]
  },
  {
   "cell_type": "code",
   "execution_count": 20,
   "id": "9cb375d1",
   "metadata": {},
   "outputs": [],
   "source": [
    "# save dataset after sum all imge features in my drive \n",
    "df.to_csv('age_after_sum_z.csv', index=False)"
   ]
  },
  {
   "cell_type": "code",
   "execution_count": 21,
   "id": "cee4b5cf",
   "metadata": {},
   "outputs": [
    {
     "data": {
      "text/html": [
       "<div>\n",
       "<style scoped>\n",
       "    .dataframe tbody tr th:only-of-type {\n",
       "        vertical-align: middle;\n",
       "    }\n",
       "\n",
       "    .dataframe tbody tr th {\n",
       "        vertical-align: top;\n",
       "    }\n",
       "\n",
       "    .dataframe thead th {\n",
       "        text-align: right;\n",
       "    }\n",
       "</style>\n",
       "<table border=\"1\" class=\"dataframe\">\n",
       "  <thead>\n",
       "    <tr style=\"text-align: right;\">\n",
       "      <th></th>\n",
       "      <th>Age</th>\n",
       "      <th>Gender</th>\n",
       "      <th>Race</th>\n",
       "      <th>Features</th>\n",
       "    </tr>\n",
       "  </thead>\n",
       "  <tbody>\n",
       "    <tr>\n",
       "      <th>0</th>\n",
       "      <td>100</td>\n",
       "      <td>1</td>\n",
       "      <td>0</td>\n",
       "      <td>242.611390</td>\n",
       "    </tr>\n",
       "    <tr>\n",
       "      <th>1</th>\n",
       "      <td>10</td>\n",
       "      <td>0</td>\n",
       "      <td>0</td>\n",
       "      <td>249.609006</td>\n",
       "    </tr>\n",
       "    <tr>\n",
       "      <th>2</th>\n",
       "      <td>10</td>\n",
       "      <td>0</td>\n",
       "      <td>0</td>\n",
       "      <td>209.781941</td>\n",
       "    </tr>\n",
       "    <tr>\n",
       "      <th>3</th>\n",
       "      <td>10</td>\n",
       "      <td>0</td>\n",
       "      <td>1</td>\n",
       "      <td>234.463676</td>\n",
       "    </tr>\n",
       "    <tr>\n",
       "      <th>4</th>\n",
       "      <td>10</td>\n",
       "      <td>1</td>\n",
       "      <td>1</td>\n",
       "      <td>244.288643</td>\n",
       "    </tr>\n",
       "  </tbody>\n",
       "</table>\n",
       "</div>"
      ],
      "text/plain": [
       "   Age  Gender  Race    Features\n",
       "0  100       1     0  242.611390\n",
       "1   10       0     0  249.609006\n",
       "2   10       0     0  209.781941\n",
       "3   10       0     1  234.463676\n",
       "4   10       1     1  244.288643"
      ]
     },
     "execution_count": 21,
     "metadata": {},
     "output_type": "execute_result"
    }
   ],
   "source": [
    "#load data from my devise \n",
    "df = pd.read_csv('age_after_sum_z.csv')\n",
    "df.head()"
   ]
  },
  {
   "cell_type": "code",
   "execution_count": 22,
   "id": "0549b93d",
   "metadata": {},
   "outputs": [
    {
     "data": {
      "text/plain": [
       "(3252, 4)"
      ]
     },
     "execution_count": 22,
     "metadata": {},
     "output_type": "execute_result"
    }
   ],
   "source": [
    "df.shape"
   ]
  },
  {
   "cell_type": "code",
   "execution_count": 23,
   "id": "0de4ccbc",
   "metadata": {},
   "outputs": [
    {
     "name": "stdout",
     "output_type": "stream",
     "text": [
      "<class 'pandas.core.frame.DataFrame'>\n",
      "RangeIndex: 3252 entries, 0 to 3251\n",
      "Data columns (total 4 columns):\n",
      " #   Column    Non-Null Count  Dtype  \n",
      "---  ------    --------------  -----  \n",
      " 0   Age       3252 non-null   int64  \n",
      " 1   Gender    3252 non-null   int64  \n",
      " 2   Race      3252 non-null   int64  \n",
      " 3   Features  3252 non-null   float64\n",
      "dtypes: float64(1), int64(3)\n",
      "memory usage: 101.8 KB\n"
     ]
    }
   ],
   "source": [
    "df.info()"
   ]
  },
  {
   "cell_type": "code",
   "execution_count": 24,
   "id": "46714231",
   "metadata": {},
   "outputs": [],
   "source": [
    "#fill NaN value by Medain\n",
    "df = df.fillna(df.median())"
   ]
  },
  {
   "cell_type": "code",
   "execution_count": 25,
   "id": "6f6a9c97",
   "metadata": {},
   "outputs": [
    {
     "name": "stdout",
     "output_type": "stream",
     "text": [
      "<class 'pandas.core.frame.DataFrame'>\n",
      "RangeIndex: 3252 entries, 0 to 3251\n",
      "Data columns (total 4 columns):\n",
      " #   Column    Non-Null Count  Dtype  \n",
      "---  ------    --------------  -----  \n",
      " 0   Age       3252 non-null   int64  \n",
      " 1   Gender    3252 non-null   int64  \n",
      " 2   Race      3252 non-null   int64  \n",
      " 3   Features  3252 non-null   float64\n",
      "dtypes: float64(1), int64(3)\n",
      "memory usage: 101.8 KB\n"
     ]
    }
   ],
   "source": [
    "df.info()"
   ]
  },
  {
   "cell_type": "code",
   "execution_count": 26,
   "id": "0fdcc00d",
   "metadata": {},
   "outputs": [],
   "source": [
    "# normaliz Age and Features and Gender and race\n",
    "df['Age'] = MinMaxScaler(feature_range=(0,1)).fit_transform(df[['Age']])\n",
    "df['Features'] = MinMaxScaler(feature_range=(0,1)).fit_transform(df[['Features']])"
   ]
  },
  {
   "cell_type": "code",
   "execution_count": 30,
   "id": "fcf0c2e1",
   "metadata": {},
   "outputs": [
    {
     "data": {
      "text/html": [
       "<div>\n",
       "<style scoped>\n",
       "    .dataframe tbody tr th:only-of-type {\n",
       "        vertical-align: middle;\n",
       "    }\n",
       "\n",
       "    .dataframe tbody tr th {\n",
       "        vertical-align: top;\n",
       "    }\n",
       "\n",
       "    .dataframe thead th {\n",
       "        text-align: right;\n",
       "    }\n",
       "</style>\n",
       "<table border=\"1\" class=\"dataframe\">\n",
       "  <thead>\n",
       "    <tr style=\"text-align: right;\">\n",
       "      <th></th>\n",
       "      <th>Age</th>\n",
       "      <th>Gender</th>\n",
       "      <th>Race</th>\n",
       "      <th>Features</th>\n",
       "    </tr>\n",
       "  </thead>\n",
       "  <tbody>\n",
       "    <tr>\n",
       "      <th>0</th>\n",
       "      <td>0.860870</td>\n",
       "      <td>1</td>\n",
       "      <td>0</td>\n",
       "      <td>0.693880</td>\n",
       "    </tr>\n",
       "    <tr>\n",
       "      <th>1</th>\n",
       "      <td>0.078261</td>\n",
       "      <td>0</td>\n",
       "      <td>0</td>\n",
       "      <td>0.747192</td>\n",
       "    </tr>\n",
       "    <tr>\n",
       "      <th>2</th>\n",
       "      <td>0.078261</td>\n",
       "      <td>0</td>\n",
       "      <td>0</td>\n",
       "      <td>0.443766</td>\n",
       "    </tr>\n",
       "    <tr>\n",
       "      <th>3</th>\n",
       "      <td>0.078261</td>\n",
       "      <td>0</td>\n",
       "      <td>1</td>\n",
       "      <td>0.631806</td>\n",
       "    </tr>\n",
       "    <tr>\n",
       "      <th>4</th>\n",
       "      <td>0.078261</td>\n",
       "      <td>1</td>\n",
       "      <td>1</td>\n",
       "      <td>0.706658</td>\n",
       "    </tr>\n",
       "  </tbody>\n",
       "</table>\n",
       "</div>"
      ],
      "text/plain": [
       "        Age  Gender  Race  Features\n",
       "0  0.860870       1     0  0.693880\n",
       "1  0.078261       0     0  0.747192\n",
       "2  0.078261       0     0  0.443766\n",
       "3  0.078261       0     1  0.631806\n",
       "4  0.078261       1     1  0.706658"
      ]
     },
     "execution_count": 30,
     "metadata": {},
     "output_type": "execute_result"
    }
   ],
   "source": [
    "df.head()"
   ]
  },
  {
   "cell_type": "code",
   "execution_count": 31,
   "id": "bcfda47b",
   "metadata": {},
   "outputs": [],
   "source": [
    "#spliot into featurs and target \n",
    "data_x = df.drop(dataset.columns[1], axis=1)  #Features all expect gender \n",
    "data_y = df.iloc[:, 1]   #Target only gender"
   ]
  },
  {
   "cell_type": "code",
   "execution_count": 32,
   "id": "79e32838",
   "metadata": {},
   "outputs": [],
   "source": [
    "# split into Train and Test\n",
    "x_train, x_test, y_train, y_test = train_test_split(data_x,data_y,test_size=0.2,random_state=42)"
   ]
  },
  {
   "cell_type": "markdown",
   "id": "e026f137-2cee-4a4d-871c-5629a90cbe78",
   "metadata": {},
   "source": [
    "# K-Means "
   ]
  },
  {
   "cell_type": "code",
   "execution_count": 33,
   "id": "75a40c99",
   "metadata": {},
   "outputs": [
    {
     "name": "stderr",
     "output_type": "stream",
     "text": [
      "c:\\Users\\LAPTOP\\anaconda3\\Lib\\site-packages\\sklearn\\cluster\\_kmeans.py:1412: FutureWarning: The default value of `n_init` will change from 10 to 'auto' in 1.4. Set the value of `n_init` explicitly to suppress the warning\n",
      "  super()._check_params_vs_input(X, default_n_init=10)\n"
     ]
    }
   ],
   "source": [
    "# K-Means \n",
    "#useed orginal dataset not need to split dataset\n",
    "km = KMeans(n_clusters=2, random_state=42)\n",
    "y_pred = km.fit_predict(df)"
   ]
  },
  {
   "cell_type": "code",
   "execution_count": 34,
   "id": "0b87176a",
   "metadata": {},
   "outputs": [
    {
     "name": "stdout",
     "output_type": "stream",
     "text": [
      "The Inertia: 1119.8897137273534\n",
      "The silhouette score is: 0.7508040187175484\n"
     ]
    }
   ],
   "source": [
    "# Calculating the silhouette score\n",
    "silhouette_avg = silhouette_score(df, km.labels_)\n",
    "print(f\"The Inertia: {km.inertia_}\")\n",
    "print(f\"The silhouette score is: {silhouette_avg}\")"
   ]
  },
  {
   "cell_type": "code",
   "execution_count": 35,
   "id": "8ced9b0c",
   "metadata": {},
   "outputs": [
    {
     "name": "stderr",
     "output_type": "stream",
     "text": [
      "c:\\Users\\LAPTOP\\anaconda3\\Lib\\site-packages\\sklearn\\cluster\\_kmeans.py:1412: FutureWarning: The default value of `n_init` will change from 10 to 'auto' in 1.4. Set the value of `n_init` explicitly to suppress the warning\n",
      "  super()._check_params_vs_input(X, default_n_init=10)\n",
      "c:\\Users\\LAPTOP\\anaconda3\\Lib\\site-packages\\sklearn\\cluster\\_kmeans.py:1412: FutureWarning: The default value of `n_init` will change from 10 to 'auto' in 1.4. Set the value of `n_init` explicitly to suppress the warning\n",
      "  super()._check_params_vs_input(X, default_n_init=10)\n",
      "c:\\Users\\LAPTOP\\anaconda3\\Lib\\site-packages\\sklearn\\cluster\\_kmeans.py:1412: FutureWarning: The default value of `n_init` will change from 10 to 'auto' in 1.4. Set the value of `n_init` explicitly to suppress the warning\n",
      "  super()._check_params_vs_input(X, default_n_init=10)\n",
      "c:\\Users\\LAPTOP\\anaconda3\\Lib\\site-packages\\sklearn\\cluster\\_kmeans.py:1412: FutureWarning: The default value of `n_init` will change from 10 to 'auto' in 1.4. Set the value of `n_init` explicitly to suppress the warning\n",
      "  super()._check_params_vs_input(X, default_n_init=10)\n",
      "c:\\Users\\LAPTOP\\anaconda3\\Lib\\site-packages\\sklearn\\cluster\\_kmeans.py:1412: FutureWarning: The default value of `n_init` will change from 10 to 'auto' in 1.4. Set the value of `n_init` explicitly to suppress the warning\n",
      "  super()._check_params_vs_input(X, default_n_init=10)\n",
      "c:\\Users\\LAPTOP\\anaconda3\\Lib\\site-packages\\sklearn\\cluster\\_kmeans.py:1412: FutureWarning: The default value of `n_init` will change from 10 to 'auto' in 1.4. Set the value of `n_init` explicitly to suppress the warning\n",
      "  super()._check_params_vs_input(X, default_n_init=10)\n",
      "c:\\Users\\LAPTOP\\anaconda3\\Lib\\site-packages\\sklearn\\cluster\\_kmeans.py:1412: FutureWarning: The default value of `n_init` will change from 10 to 'auto' in 1.4. Set the value of `n_init` explicitly to suppress the warning\n",
      "  super()._check_params_vs_input(X, default_n_init=10)\n",
      "c:\\Users\\LAPTOP\\anaconda3\\Lib\\site-packages\\sklearn\\cluster\\_kmeans.py:1412: FutureWarning: The default value of `n_init` will change from 10 to 'auto' in 1.4. Set the value of `n_init` explicitly to suppress the warning\n",
      "  super()._check_params_vs_input(X, default_n_init=10)\n",
      "c:\\Users\\LAPTOP\\anaconda3\\Lib\\site-packages\\sklearn\\cluster\\_kmeans.py:1412: FutureWarning: The default value of `n_init` will change from 10 to 'auto' in 1.4. Set the value of `n_init` explicitly to suppress the warning\n",
      "  super()._check_params_vs_input(X, default_n_init=10)\n",
      "c:\\Users\\LAPTOP\\anaconda3\\Lib\\site-packages\\sklearn\\cluster\\_kmeans.py:1412: FutureWarning: The default value of `n_init` will change from 10 to 'auto' in 1.4. Set the value of `n_init` explicitly to suppress the warning\n",
      "  super()._check_params_vs_input(X, default_n_init=10)\n"
     ]
    },
    {
     "data": {
      "image/png": "[encoded data removed]",
      "text/plain": [
       "<Figure size 800x600 with 1 Axes>"
      ]
     },
     "metadata": {},
     "output_type": "display_data"
    }
   ],
   "source": [
    "#Elbow Method\n",
    "k=2\n",
    "inertia = []\n",
    "for k in range(1, 11):\n",
    "    kmean = KMeans(n_clusters=k, random_state=42)\n",
    "    kmean.fit(df)\n",
    "    inertia.append(kmean.inertia_)\n",
    "\n",
    "# Plotting the Elbow Method curve\n",
    "plt.figure(figsize=(8, 6))\n",
    "plt.plot(range(1, 11), inertia, marker='o')\n",
    "plt.title('Elbow Method for Optimal k(loss curve)')\n",
    "plt.xlabel('Number of Clusters (k)')\n",
    "plt.ylabel('Inertia')\n",
    "plt.xticks(range(1, 11))\n",
    "plt.show()"
   ]
  },
  {
   "cell_type": "code",
   "execution_count": 36,
   "id": "76cff6f2",
   "metadata": {},
   "outputs": [
    {
     "data": {
      "image/png": "[encoded data removed]",
      "text/plain": [
       "<Figure size 1500x300 with 2 Axes>"
      ]
     },
     "metadata": {},
     "output_type": "display_data"
    }
   ],
   "source": [
    "# Visualize the cluster centers (representative images)\n",
    "k=2\n",
    "fig, ax = plt.subplots(1, k, figsize=(15, 3))\n",
    "for i in range(k):\n",
    "    center_image = km.cluster_centers_[i].reshape(2,2)  # Reshape to original dimensions\n",
    "    ax[i].imshow(center_image, cmap='gray')\n",
    "    ax[i].axis('off')\n",
    "    ax[i].set_title(f'Cluster {i}')\n",
    "\n",
    "plt.show()"
   ]
  },
  {
   "cell_type": "code",
   "execution_count": null,
   "id": "a1516946-fcf4-4d14-9fc8-4b6ae7e812c5",
   "metadata": {},
   "outputs": [],
   "source": []
  }
 ],
 "metadata": {
  "kernelspec": {
   "display_name": "Python 3 (ipykernel)",
   "language": "python",
   "name": "python3"
  },
  "language_info": {
   "codemirror_mode": {
    "name": "ipython",
    "version": 3
   },
   "file_extension": ".py",
   "mimetype": "text/x-python",
   "name": "python",
   "nbconvert_exporter": "python",
   "pygments_lexer": "ipython3",
   "version": "3.11.4"
  }
 },
 "nbformat": 4,
 "nbformat_minor": 5
}
